{
 "cells": [
  {
   "cell_type": "code",
   "execution_count": 1,
   "metadata": {
    "collapsed": false
   },
   "outputs": [
    {
     "ename": "IndentationError",
     "evalue": "expected an indented block (<ipython-input-1-13e219f42eb3>, line 4)",
     "output_type": "error",
     "traceback": [
      "\u001b[0;36m  File \u001b[0;32m\"<ipython-input-1-13e219f42eb3>\"\u001b[0;36m, line \u001b[0;32m4\u001b[0m\n\u001b[0;31m    def beta_v():\u001b[0m\n\u001b[0m      ^\u001b[0m\n\u001b[0;31mIndentationError\u001b[0m\u001b[0;31m:\u001b[0m expected an indented block\n"
     ]
    }
   ],
   "source": [
    "def beta_u():\n",
    "    \n",
    "    \n",
    "def beta_v():\n",
    "    \n",
    "def P_u_v(x, y):\n",
    "    return beta_u() * beta_v() *\n",
    "    cos((2 * x + 1) * pi * u / 2 / N) *\n",
    "    cos((2 * y + 1) * pi * u / 2 / N)\n",
    "    \n",
    "K = 10\n",
    "\n",
    "def S_1/p_(x):\n",
    "    return sign(x) * max(mod(x) - 1/p, 0)\n",
    "\n",
    "def algo(block):\n",
    "    if intensity(block) < l2:\n",
    "        mark as back or forg\n",
    "        return\n",
    "    if lumin(block) < l3:\n",
    "        mark as back\n",
    "    else:\n",
    "        fitted_block = ADDM(block)\n",
    "        abs_error = error(fitted_block)\n",
    "        for pixel in fitted_block:  #exactly?\n",
    "            if distortion(pixel) < thresh(l1):\n",
    "                mark as back\n",
    "                percentage += 1\n",
    "            else:\n",
    "                mark as forg\n",
    "        if percentage > l4:\n",
    "            stop # is it retutn?\n",
    "        else:\n",
    "            if n >= 8:\n",
    "                blocks = divide(block)\n",
    "                for blck in blocks:\n",
    "                    algo(blck)"
   ]
  },
  {
   "cell_type": "code",
   "execution_count": 5,
   "metadata": {
    "collapsed": true
   },
   "outputs": [],
   "source": [
    "import glob, os\n",
    "\n",
    "def rename(dir, pattern, titlePattern):\n",
    "    i = 1\n",
    "    for pathAndFilename in glob.iglob(os.path.join(dir, pattern)):\n",
    "        title, ext = os.path.splitext(os.path.basename(pathAndFilename))\n",
    "        os.rename(pathAndFilename, \n",
    "                  os.path.join(dir, str(i) + ext))\n",
    "        i += 1"
   ]
  },
  {
   "cell_type": "code",
   "execution_count": 6,
   "metadata": {
    "collapsed": true
   },
   "outputs": [],
   "source": [
    "rename(r'/home/abhanak/images', r'*.*', r'(%s)')"
   ]
  },
  {
   "cell_type": "code",
   "execution_count": null,
   "metadata": {
    "collapsed": true
   },
   "outputs": [],
   "source": []
  }
 ],
 "metadata": {
  "anaconda-cloud": {},
  "kernelspec": {
   "display_name": "Python [conda root]",
   "language": "python",
   "name": "conda-root-py"
  },
  "language_info": {
   "codemirror_mode": {
    "name": "ipython",
    "version": 3
   },
   "file_extension": ".py",
   "mimetype": "text/x-python",
   "name": "python",
   "nbconvert_exporter": "python",
   "pygments_lexer": "ipython3",
   "version": "3.5.2"
  }
 },
 "nbformat": 4,
 "nbformat_minor": 2
}
